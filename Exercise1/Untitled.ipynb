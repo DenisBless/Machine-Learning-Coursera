{
 "cells": [
  {
   "cell_type": "code",
   "execution_count": 60,
   "metadata": {},
   "outputs": [],
   "source": [
    "# used for manipulating directory paths\n",
    "import os\n",
    "\n",
    "# Scientific and vector computation for python\n",
    "import numpy as np\n",
    "\n",
    "# Plotting library\n",
    "import matplotlib.pyplot as plt\n",
    "from mpl_toolkits.mplot3d import Axes3D  # needed to plot 3-D surfaces\n",
    "\n",
    "# library written for this exercise providing additional functions for assignment submission, and others\n",
    "import utils "
   ]
  },
  {
   "cell_type": "code",
   "execution_count": 90,
   "metadata": {},
   "outputs": [
    {
     "name": "stdout",
     "output_type": "stream",
     "text": [
      "(97,) (97,) (97, 2)\n"
     ]
    }
   ],
   "source": [
    "# Read comma separated data\n",
    "data = np.loadtxt(os.path.join('Data', 'ex1data1.txt'), delimiter=',')\n",
    "X, y = data[:, 0], data[:, 1]\n",
    "\n",
    "m = y.size  # number of training examples\n",
    "\n",
    "# Print the shape\n",
    "print(np.shape(X),np.shape(y),np.shape(data))"
   ]
  },
  {
   "cell_type": "code",
   "execution_count": 62,
   "metadata": {},
   "outputs": [
    {
     "data": {
      "text/plain": [
       "Text(0,0.5,'Profit in $10.000')"
      ]
     },
     "execution_count": 62,
     "metadata": {},
     "output_type": "execute_result"
    },
    {
     "data": {
      "image/png": "[encoded data removed]",
      "text/plain": [
       "<Figure size 432x288 with 1 Axes>"
      ]
     },
     "metadata": {},
     "output_type": "display_data"
    }
   ],
   "source": [
    "# Plot Data: \n",
    "plt.plot(X,y,'ro',mec = 'k')\n",
    "plt.xlabel('Population of city in 10.000s')\n",
    "plt.ylabel('Profit in $10.000')"
   ]
  },
  {
   "cell_type": "code",
   "execution_count": 63,
   "metadata": {},
   "outputs": [],
   "source": [
    "X = np.stack([np.ones_like(X),X],axis = 1)\n",
    "W = np.ones((1,2))\n",
    "\n"
   ]
  },
  {
   "cell_type": "code",
   "execution_count": 64,
   "metadata": {},
   "outputs": [],
   "source": [
    "loss_hist = []"
   ]
  },
  {
   "cell_type": "code",
   "execution_count": 65,
   "metadata": {},
   "outputs": [],
   "source": [
    "def lossfunc(W,X,y):\n",
    "    L = np.mean((np.dot(X,W.T)-y)**2)/2\n",
    "    return L \n",
    "    "
   ]
  },
  {
   "cell_type": "code",
   "execution_count": 66,
   "metadata": {},
   "outputs": [],
   "source": [
    "def grads(W,X,y):\n",
    "    dW = np.sum((np.dot(X,W.T)-y[:,None])*W,axis=0)/np.size(y)\n",
    "    return dW\n",
    "    print(\"fsf\")"
   ]
  },
  {
   "cell_type": "code",
   "execution_count": 67,
   "metadata": {},
   "outputs": [
    {
     "data": {
      "text/plain": [
       "97"
      ]
     },
     "execution_count": 67,
     "metadata": {},
     "output_type": "execute_result"
    }
   ],
   "source": [
    "np.size(y)"
   ]
  },
  {
   "cell_type": "code",
   "execution_count": 68,
   "metadata": {},
   "outputs": [],
   "source": [
    "def grad_decent(W,X,y,num_iter,alpha):\n",
    "    loss_hist = []\n",
    "    for i in range(num_iter):\n",
    "        loss = lossfunc(W,X,y)\n",
    "        loss_hist.append(loss)\n",
    "        dW = grads(W,X,y)\n",
    "        \n",
    "        W -= alpha * dW\n",
    "    return loss_hist, W"
   ]
  },
  {
   "cell_type": "code",
   "execution_count": 76,
   "metadata": {},
   "outputs": [
    {
     "name": "stdout",
     "output_type": "stream",
     "text": [
      "[2.52718808e-15 2.52718808e-15]\n",
      "[2.52718808e-15 2.52718808e-15]\n",
      "[2.52718808e-15 2.52718808e-15]\n",
      "[2.52718808e-15 2.52718808e-15]\n",
      "[2.52718808e-15 2.52718808e-15]\n",
      "[2.52718808e-15 2.52718808e-15]\n",
      "[2.52718808e-15 2.52718808e-15]\n",
      "[2.52718808e-15 2.52718808e-15]\n",
      "[2.52718808e-15 2.52718808e-15]\n",
      "[2.52718808e-15 2.52718808e-15]\n",
      "[2.52718808e-15 2.52718808e-15]\n",
      "[2.52718808e-15 2.52718808e-15]\n",
      "[2.52718808e-15 2.52718808e-15]\n",
      "[2.52718808e-15 2.52718808e-15]\n",
      "[2.52718808e-15 2.52718808e-15]\n",
      "[2.52718808e-15 2.52718808e-15]\n",
      "[2.52718808e-15 2.52718808e-15]\n",
      "[2.52718808e-15 2.52718808e-15]\n",
      "[2.52718808e-15 2.52718808e-15]\n",
      "[2.52718808e-15 2.52718808e-15]\n",
      "[2.52718808e-15 2.52718808e-15]\n",
      "[2.52718808e-15 2.52718808e-15]\n",
      "[2.52718808e-15 2.52718808e-15]\n",
      "[2.52718808e-15 2.52718808e-15]\n",
      "[2.52718808e-15 2.52718808e-15]\n",
      "[2.52718808e-15 2.52718808e-15]\n",
      "[2.52718808e-15 2.52718808e-15]\n",
      "[2.52718808e-15 2.52718808e-15]\n",
      "[2.52718808e-15 2.52718808e-15]\n",
      "[2.52718808e-15 2.52718808e-15]\n",
      "[2.52718808e-15 2.52718808e-15]\n",
      "[2.52718808e-15 2.52718808e-15]\n",
      "[2.52718808e-15 2.52718808e-15]\n",
      "[2.52718808e-15 2.52718808e-15]\n",
      "[2.52718808e-15 2.52718808e-15]\n",
      "[2.52718808e-15 2.52718808e-15]\n",
      "[2.52718808e-15 2.52718808e-15]\n",
      "[2.52718808e-15 2.52718808e-15]\n",
      "[2.52718808e-15 2.52718808e-15]\n",
      "[2.52718808e-15 2.52718808e-15]\n",
      "[2.52718808e-15 2.52718808e-15]\n",
      "[2.52718808e-15 2.52718808e-15]\n",
      "[2.52718808e-15 2.52718808e-15]\n",
      "[2.52718808e-15 2.52718808e-15]\n",
      "[2.52718808e-15 2.52718808e-15]\n",
      "[2.52718808e-15 2.52718808e-15]\n",
      "[2.52718808e-15 2.52718808e-15]\n",
      "[2.52718808e-15 2.52718808e-15]\n",
      "[2.52718808e-15 2.52718808e-15]\n",
      "[2.52718808e-15 2.52718808e-15]\n",
      "[2.52718808e-15 2.52718808e-15]\n",
      "[2.52718808e-15 2.52718808e-15]\n",
      "[2.52718808e-15 2.52718808e-15]\n",
      "[2.52718808e-15 2.52718808e-15]\n",
      "[2.52718808e-15 2.52718808e-15]\n",
      "[2.52718808e-15 2.52718808e-15]\n",
      "[2.52718808e-15 2.52718808e-15]\n",
      "[2.52718808e-15 2.52718808e-15]\n",
      "[2.52718808e-15 2.52718808e-15]\n",
      "[2.52718808e-15 2.52718808e-15]\n",
      "[2.52718808e-15 2.52718808e-15]\n",
      "[2.52718808e-15 2.52718808e-15]\n",
      "[2.52718808e-15 2.52718808e-15]\n",
      "[2.52718808e-15 2.52718808e-15]\n",
      "[2.52718808e-15 2.52718808e-15]\n",
      "[2.52718808e-15 2.52718808e-15]\n",
      "[2.52718808e-15 2.52718808e-15]\n",
      "[2.52718808e-15 2.52718808e-15]\n",
      "[2.52718808e-15 2.52718808e-15]\n",
      "[2.52718808e-15 2.52718808e-15]\n",
      "[2.52718808e-15 2.52718808e-15]\n",
      "[2.52718808e-15 2.52718808e-15]\n",
      "[2.52718808e-15 2.52718808e-15]\n",
      "[2.52718808e-15 2.52718808e-15]\n",
      "[2.52718808e-15 2.52718808e-15]\n",
      "[2.52718808e-15 2.52718808e-15]\n",
      "[2.52718808e-15 2.52718808e-15]\n",
      "[2.52718808e-15 2.52718808e-15]\n",
      "[2.52718808e-15 2.52718808e-15]\n",
      "[2.52718808e-15 2.52718808e-15]\n",
      "[2.52718808e-15 2.52718808e-15]\n",
      "[2.52718808e-15 2.52718808e-15]\n",
      "[2.52718808e-15 2.52718808e-15]\n",
      "[2.52718808e-15 2.52718808e-15]\n",
      "[2.52718808e-15 2.52718808e-15]\n",
      "[2.52718808e-15 2.52718808e-15]\n",
      "[2.52718808e-15 2.52718808e-15]\n",
      "[2.52718808e-15 2.52718808e-15]\n",
      "[2.52718808e-15 2.52718808e-15]\n",
      "[2.52718808e-15 2.52718808e-15]\n",
      "[2.52718808e-15 2.52718808e-15]\n",
      "[2.52718808e-15 2.52718808e-15]\n",
      "[2.52718808e-15 2.52718808e-15]\n",
      "[2.52718808e-15 2.52718808e-15]\n",
      "[2.52718808e-15 2.52718808e-15]\n",
      "[2.52718808e-15 2.52718808e-15]\n",
      "[2.52718808e-15 2.52718808e-15]\n",
      "[2.52718808e-15 2.52718808e-15]\n",
      "[2.52718808e-15 2.52718808e-15]\n",
      "[2.52718808e-15 2.52718808e-15]\n"
     ]
    },
    {
     "data": {
      "text/plain": [
       "[<matplotlib.lines.Line2D at 0x1497ecb52b0>]"
      ]
     },
     "execution_count": 76,
     "metadata": {},
     "output_type": "execute_result"
    },
    {
     "data": {
      "image/png": "[encoded data removed]",
      "text/plain": [
       "<Figure size 432x288 with 1 Axes>"
      ]
     },
     "metadata": {},
     "output_type": "display_data"
    }
   ],
   "source": [
    "iters = 100\n",
    "lr = 0.02\n",
    "\n",
    "hist, W = grad_decent(W,X,y,iters,lr)\n",
    "\n",
    "plt.plot(range(len(hist)),hist)\n",
    "\n"
   ]
  },
  {
   "cell_type": "code",
   "execution_count": 77,
   "metadata": {},
   "outputs": [],
   "source": [
    "from sklearn.linear_model import LinearRegression"
   ]
  },
  {
   "cell_type": "code",
   "execution_count": 94,
   "metadata": {},
   "outputs": [
    {
     "data": {
      "text/plain": [
       "LinearRegression(copy_X=True, fit_intercept=True, n_jobs=1, normalize=False)"
      ]
     },
     "execution_count": 94,
     "metadata": {},
     "output_type": "execute_result"
    }
   ],
   "source": [
    "pred = LinearRegression()\n",
    "model = pred.fit(X[:,None],y)\n",
    "\n",
    "\n"
   ]
  }
 ],
 "metadata": {
  "kernelspec": {
   "display_name": "Python 3",
   "language": "python",
   "name": "python3"
  },
  "language_info": {
   "codemirror_mode": {
    "name": "ipython",
    "version": 3
   },
   "file_extension": ".py",
   "mimetype": "text/x-python",
   "name": "python",
   "nbconvert_exporter": "python",
   "pygments_lexer": "ipython3",
   "version": "3.6.5"
  },
  "varInspector": {
   "cols": {
    "lenName": 16,
    "lenType": 16,
    "lenVar": 40
   },
   "kernels_config": {
    "python": {
     "delete_cmd_postfix": "",
     "delete_cmd_prefix": "del ",
     "library": "var_list.py",
     "varRefreshCmd": "print(var_dic_list())"
    },
    "r": {
     "delete_cmd_postfix": ") ",
     "delete_cmd_prefix": "rm(",
     "library": "var_list.r",
     "varRefreshCmd": "cat(var_dic_list()) "
    }
   },
   "types_to_exclude": [
    "module",
    "function",
    "builtin_function_or_method",
    "instance",
    "_Feature"
   ],
   "window_display": false
  }
 },
 "nbformat": 4,
 "nbformat_minor": 2
}
